{
 "cells": [
  {
   "cell_type": "code",
   "execution_count": 214,
   "metadata": {
    "collapsed": true,
    "ExecuteTime": {
     "start_time": "2024-03-24T06:21:26.991974Z",
     "end_time": "2024-03-24T06:21:28.891675Z"
    }
   },
   "outputs": [],
   "source": [
    "import docx\n",
    "\n",
    "doc = docx.Document(\"C:/Users/mbles/OneDrive/Documents/Edges of Affection .docx\")\n",
    "\n",
    "Paragraphs = doc.paragraphs\n",
    "\n",
    "chapter_titles = []\n",
    "content_by_chapter = []\n",
    "\n",
    "def get_chapter_titles(paragraphs):\n",
    "    for paragraph in paragraphs:\n",
    "        if paragraph.style.name.startswith('Heading'):\n",
    "            yield paragraph\n",
    "\n",
    "for heading in get_chapter_titles(Paragraphs):\n",
    "    chapter_titles.append(heading.text)\n",
    "\n",
    "def get_chapter_content(paragraphs):\n",
    "    chapter_content = []\n",
    "    for paragraph in paragraphs:\n",
    "        if paragraph.style.name.startswith('Normal'):\n",
    "            chapter_content.append(paragraph)\n",
    "        else:\n",
    "            if len(chapter_content) != 0:\n",
    "                content_by_chapter.append(chapter_content)\n",
    "            chapter_content.clear()\n",
    "\n",
    "\n",
    "\n",
    "get_chapter_content(Paragraphs)\n",
    "\n",
    "content_by_chapter\n",
    "\n",
    "# note that chapter titles list is longer because I added \"Chapter 26\" to the doc as a header but have yet ti actually\n",
    "# write any of the content\n",
    "text_split_by_chapter = {chapter_titles[i]: content_by_chapter[i] for i in range(len(content_by_chapter))}\n",
    "\n"
   ]
  },
  {
   "cell_type": "code",
   "execution_count": 182,
   "outputs": [],
   "source": [
    "def create_new_chapter_file(title, content, folder_path):\n",
    "    doc = docx.Document()\n",
    "    doc.add_heading(title, level = 1)\n",
    "    doc.add_paragraph(content)\n",
    "    doc.core_properties.title = title\n",
    "\n",
    "    # remove characters from title that Windows doesn't allow in file names\n",
    "    title = title.replace(':', ' -')\n",
    "    if '?' in title:\n",
    "        title = title.replace('?', '')\n",
    "\n",
    "    doc.save(folder_path + '/' + title + '.docx')\n",
    "    return doc\n",
    "\n",
    "for i in range(len(content_by_chapter)):\n",
    "    create_new_chapter_file(chapter_titles[i], content_by_chapter[i], 'C:/Users/mbles/OneDrive/Documents/Edges of Affection by chapter')"
   ],
   "metadata": {
    "collapsed": false,
    "ExecuteTime": {
     "start_time": "2024-03-24T05:15:01.865382Z",
     "end_time": "2024-03-24T05:15:03.376414Z"
    }
   }
  },
  {
   "cell_type": "code",
   "execution_count": 210,
   "outputs": [
    {
     "data": {
      "text/plain": "'Emerys'"
     },
     "execution_count": 210,
     "metadata": {},
     "output_type": "execute_result"
    }
   ],
   "source": [
    "Paragraphs[7].runs[1].text"
   ],
   "metadata": {
    "collapsed": false,
    "ExecuteTime": {
     "start_time": "2024-03-24T05:40:38.914094Z",
     "end_time": "2024-03-24T05:40:38.925143Z"
    }
   }
  }
 ],
 "metadata": {
  "kernelspec": {
   "display_name": "Python 3",
   "language": "python",
   "name": "python3"
  },
  "language_info": {
   "codemirror_mode": {
    "name": "ipython",
    "version": 2
   },
   "file_extension": ".py",
   "mimetype": "text/x-python",
   "name": "python",
   "nbconvert_exporter": "python",
   "pygments_lexer": "ipython2",
   "version": "2.7.6"
  }
 },
 "nbformat": 4,
 "nbformat_minor": 0
}
