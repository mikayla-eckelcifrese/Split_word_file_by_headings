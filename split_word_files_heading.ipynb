{
 "cells": [
  {
   "cell_type": "code",
   "execution_count": 235,
   "metadata": {
    "collapsed": true,
    "ExecuteTime": {
     "start_time": "2024-03-24T07:13:30.741270Z",
     "end_time": "2024-03-24T07:13:33.109786Z"
    }
   },
   "outputs": [],
   "source": [
    "import docx\n",
    "from docx.enum.text import WD_ALIGN_PARAGRAPH\n",
    "\n",
    "\n",
    "doc = docx.Document(\"C:/Users/mbles/OneDrive/Documents/Edges of Affection .docx\")\n",
    "\n",
    "Paragraphs = doc.paragraphs\n",
    "\n",
    "chapter_titles = []\n",
    "content_by_chapter = []\n",
    "\n",
    "def get_chapter_titles(paragraphs):\n",
    "    for paragraph in paragraphs:\n",
    "        if paragraph.style.name.startswith('Heading'):\n",
    "            yield paragraph\n",
    "\n",
    "for heading in get_chapter_titles(Paragraphs):\n",
    "    chapter_titles.append(heading.text)\n",
    "\n",
    "def get_chapter_content(paragraphs):\n",
    "    chapter_content = []\n",
    "    for paragraph in paragraphs:\n",
    "        if paragraph.style.name.startswith('Normal'):\n",
    "            chapter_content.append(paragraph)\n",
    "        else:\n",
    "            if len(chapter_content) != 0:\n",
    "                content_by_chapter.append(chapter_content)\n",
    "                chapter_content = []\n",
    "\n",
    "\n",
    "\n",
    "get_chapter_content(Paragraphs)\n"
   ]
  },
  {
   "cell_type": "code",
   "execution_count": 233,
   "outputs": [],
   "source": [
    "def create_new_chapter_file(title, content, folder_path):\n",
    "    doc = docx.Document()\n",
    "    heading = doc.add_heading(title, level = 1)\n",
    "    heading.paragraph_format.alignment = WD_ALIGN_PARAGRAPH.CENTER\n",
    "    #doc.add_paragraph(content)\n",
    "\n",
    "    # Iterate through each paragraph in the list of paragraphs\n",
    "    for src_paragraph in content:\n",
    "        # Create a new paragraph in the new document\n",
    "        new_para = doc.add_paragraph(style=src_paragraph.style)\n",
    "\n",
    "        # Copy runs from the source paragraph to the new one\n",
    "        for run in src_paragraph.runs:\n",
    "            new_run = new_para.add_run(run.text, style=run.style)\n",
    "            # Preserving formatting such as bold and italic\n",
    "            new_run.bold = run.bold\n",
    "            new_run.italic = run.italic\n",
    "\n",
    "        # After creating the paragraphs and their runs, copy paragraph-level formatting\n",
    "        new_para_format = new_para.paragraph_format\n",
    "        src_para_format = src_paragraph.paragraph_format\n",
    "\n",
    "        # carry over centering from original doc to the new docs\n",
    "        new_para_format.alignment = src_para_format.alignment\n",
    "\n",
    "    doc.core_properties.title = title\n",
    "\n",
    "    # remove characters from title that Windows doesn't allow in file names\n",
    "    title = title.replace(':', ' -')\n",
    "    if '?' in title:\n",
    "        title = title.replace('?', '')\n",
    "\n",
    "    doc.save(folder_path + '/' + title + '.docx')\n",
    "    return doc\n",
    "\n",
    "for i in range(len(content_by_chapter)):\n",
    "    create_new_chapter_file(chapter_titles[i], content_by_chapter[i], 'C:/Users/mbles/OneDrive/Documents/Edges of Affection by chapter')"
   ],
   "metadata": {
    "collapsed": false,
    "ExecuteTime": {
     "start_time": "2024-03-24T07:00:02.667501Z",
     "end_time": "2024-03-24T07:00:29.736615Z"
    }
   }
  },
  {
   "cell_type": "code",
   "execution_count": 234,
   "outputs": [],
   "source": [],
   "metadata": {
    "collapsed": false,
    "ExecuteTime": {
     "start_time": "2024-03-24T07:07:23.190133Z",
     "end_time": "2024-03-24T07:07:23.192137Z"
    }
   }
  },
  {
   "cell_type": "code",
   "execution_count": null,
   "outputs": [],
   "source": [],
   "metadata": {
    "collapsed": false
   }
  }
 ],
 "metadata": {
  "kernelspec": {
   "display_name": "Python 3",
   "language": "python",
   "name": "python3"
  },
  "language_info": {
   "codemirror_mode": {
    "name": "ipython",
    "version": 2
   },
   "file_extension": ".py",
   "mimetype": "text/x-python",
   "name": "python",
   "nbconvert_exporter": "python",
   "pygments_lexer": "ipython2",
   "version": "2.7.6"
  }
 },
 "nbformat": 4,
 "nbformat_minor": 0
}
